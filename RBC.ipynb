{
 "cells": [
  {
   "cell_type": "code",
   "execution_count": 1,
   "id": "66ac7d15",
   "metadata": {},
   "outputs": [],
   "source": [
    "import torch\n",
    "import torch.nn as nn\n",
    "import torch.nn.functional as F\n",
    "from torch.utils.data import Dataset, DataLoader\n",
    "import matplotlib.pyplot as plt"
   ]
  },
  {
   "cell_type": "code",
   "execution_count": 2,
   "id": "c9bf02aa",
   "metadata": {},
   "outputs": [],
   "source": [
    "class NN(nn.Module):\n",
    "    def __init__(self, \n",
    "                 dim_hidden = 128,\n",
    "                layers = 7,\n",
    "                hidden_bias = True):\n",
    "        super().__init__()\n",
    "        self.dim_hidden= dim_hidden\n",
    "        self.layers = layers\n",
    "        self.hidden_bias = hidden_bias\n",
    "        \n",
    "        module = []\n",
    "        module.append(nn.Linear(1,self.dim_hidden, bias = self.hidden_bias))\n",
    "        module.append(nn.ReLU())\n",
    "        \n",
    "        for i in range(self.layers-1):\n",
    "            module.append(nn.Linear(self.dim_hidden,self.dim_hidden, bias = self.hidden_bias))\n",
    "            module.append(nn.ReLU())  \n",
    "            \n",
    "        module.append(nn.Linear(self.dim_hidden,2)) #two dimension output\n",
    "        \n",
    "        self.u = nn.Sequential(*module)\n",
    "\n",
    "    def forward(self, x):\n",
    "        u_1 = self.u(x)[:,0]\n",
    "        u_2 = self.u(x)[:,1]\n",
    "        return  u_1,u_2"
   ]
  },
  {
   "cell_type": "code",
   "execution_count": 3,
   "id": "c5c649c2",
   "metadata": {},
   "outputs": [],
   "source": [
    "class Data:\n",
    "    def __init__(self,\n",
    "                 beta = 0.9,\n",
    "                 alpha = 0.5,\n",
    "                 sigma= 1, #risk aversion\n",
    "                 gamma= 0.15, #discount rate\n",
    "                 kmax = 12.0, \n",
    "                 kmin =  2.1,\n",
    "                 num = 200,\n",
    "                 batch_size = 100\n",
    "                ):\n",
    "        self.beta = beta\n",
    "        self.alpha = alpha\n",
    "        self.sigma = sigma\n",
    "        self.gamma = gamma\n",
    "        self.kmax = kmax\n",
    "        self.kmin = kmin\n",
    "        self.num = num\n",
    "        self.batch_size = batch_size                  \n",
    "        self.train_data = torch.linspace(kmin,kmax,num).reshape(num,1)"
   ]
  },
  {
   "cell_type": "code",
   "execution_count": 4,
   "id": "5e933393",
   "metadata": {},
   "outputs": [],
   "source": [
    "class Data_loader(Dataset):\n",
    "    \n",
    "    def __init__(self,data):\n",
    "        self.data = data\n",
    "        self.K = self.data\n",
    "        self.n_samples = self.data.shape[0]\n",
    "\n",
    "    def __getitem__(self,index):\n",
    "            return self.K[index]\n",
    "        \n",
    "    def __len__(self):\n",
    "        return self.n_samples"
   ]
  },
  {
   "cell_type": "code",
   "execution_count": 5,
   "id": "37c9c178",
   "metadata": {},
   "outputs": [],
   "source": [
    "data_set = Data().train_data\n",
    "data_label = Data_loader(data = data_set)\n",
    "batch_size = Data().batch_size\n",
    "train = DataLoader(dataset = data_label, batch_size = batch_size, shuffle = True)"
   ]
  },
  {
   "cell_type": "code",
   "execution_count": 6,
   "id": "e393a255",
   "metadata": {},
   "outputs": [],
   "source": [
    "α = Data().alpha\n",
    "γ = Data().gamma\n",
    "β = Data().beta\n",
    "σ = Data().sigma\n",
    "A_1 = 1.3  # high TFP\n",
    "A_2 = 0.7  # low TFP\n",
    "P_1 = 0.65  \n",
    "P_2 = 0.65  # transition rate\n",
    "num=Data().num"
   ]
  },
  {
   "cell_type": "code",
   "execution_count": 7,
   "id": "834a1d26",
   "metadata": {},
   "outputs": [
    {
     "data": {
      "text/plain": [
       "<torch._C.Generator at 0x1245313b0>"
      ]
     },
     "execution_count": 7,
     "metadata": {},
     "output_type": "execute_result"
    }
   ],
   "source": [
    "max_epochs = 1001\n",
    "torch.manual_seed(1101)"
   ]
  },
  {
   "cell_type": "code",
   "execution_count": 8,
   "id": "96d1da7d",
   "metadata": {},
   "outputs": [],
   "source": [
    "c_hat = NN()\n",
    "learning_rate = 3e-3\n",
    "\n",
    "optimizer = torch.optim.Adam(c_hat.parameters(), lr=learning_rate, weight_decay=0.0)\n",
    "scheduler = torch.optim.lr_scheduler.StepLR(optimizer, step_size=100, gamma=0.5)"
   ]
  },
  {
   "cell_type": "code",
   "execution_count": 9,
   "id": "edb1b48d",
   "metadata": {},
   "outputs": [
    {
     "name": "stdout",
     "output_type": "stream",
     "text": [
      "epoch: 0 , MSE Euler Residuals: 1.15e+02\n",
      "epoch: 100 , MSE Euler Residuals: 1.37e-03\n",
      "epoch: 200 , MSE Euler Residuals: 4.55e-04\n",
      "epoch: 300 , MSE Euler Residuals: 2.97e-04\n",
      "epoch: 400 , MSE Euler Residuals: 2.96e-04\n",
      "epoch: 500 , MSE Euler Residuals: 2.99e-04\n",
      "epoch: 600 , MSE Euler Residuals: 2.78e-04\n",
      "epoch: 700 , MSE Euler Residuals: 2.86e-04\n",
      "epoch: 800 , MSE Euler Residuals: 2.80e-04\n",
      "epoch: 900 , MSE Euler Residuals: 2.85e-04\n",
      "epoch: 1000 , MSE Euler Residuals: 2.32e-04\n"
     ]
    }
   ],
   "source": [
    " for epoch in range(max_epochs):\n",
    "    for index, K in enumerate(train):\n",
    "        \n",
    "        c_1,c_2 = c_hat(K)\n",
    "        Kp_1 = A_1*K.pow(α)+(1-γ)*K-c_1.reshape(batch_size,1)\n",
    "        Kp_2 = A_2*K.pow(α)+(1-γ)*K-c_2.reshape(batch_size,1)\n",
    "        cp1_1, cp1_2 = c_hat(Kp_1)\n",
    "        cp2_1, cp2_2 = c_hat(Kp_2)\n",
    "        \n",
    "        res_1 = c_1.reshape(batch_size,1).pow(σ)*β*(P_1*cp1_1.reshape(batch_size,1).pow(-σ)+(1-P_1)*cp1_2.reshape(batch_size,1).pow(-σ))*(1-γ+α*A_1*Kp_1.pow(α-1))-1\n",
    "        res_2 = c_2.reshape(batch_size,1).pow(σ)*β*((1-P_2)*cp2_1.reshape(batch_size,1).pow(-σ)+P_2*cp2_2.reshape(batch_size,1).pow(-σ))*(1-γ+α*A_2*Kp_2.pow(α-1))-1\n",
    "        \n",
    "        loss = 0.5*(res_1.pow(2).mean()+res_2.pow(2).mean())\n",
    "                \n",
    "        optimizer.zero_grad()\n",
    "        \n",
    "        loss.backward()\n",
    "        \n",
    "        optimizer.step()\n",
    "        \n",
    "        scheduler.step()\n",
    "        \n",
    "    if epoch % 100 == 0:\n",
    "        #print(\"epoch:\",\",\",epoch,',',\"{:.2e}\".format(loss.item()),',',\"{:.2e}\".format(get_lr(optimizer))) \n",
    "        print(\"epoch:\",epoch, \",\",\"MSE Euler Residuals:\",\"{:.2e}\".format(loss.item()))    \n"
   ]
  },
  {
   "cell_type": "code",
   "execution_count": 10,
   "id": "c19c41b6",
   "metadata": {},
   "outputs": [],
   "source": [
    "c_hat.eval()\n",
    "K = Data().train_data\n",
    "ce_1,ce_2 = c_hat(K)\n",
    "Kpe_1=A_1*K.pow(α)+(1-γ)*K-ce_1.reshape(num,1)\n",
    "Kpe_2=A_2*K.pow(α)+(1-γ)*K-ce_2.reshape(num,1)"
   ]
  },
  {
   "cell_type": "code",
   "execution_count": 11,
   "id": "701fcf63",
   "metadata": {},
   "outputs": [
    {
     "data": {
      "image/png": "[encoded data removed]",
      "text/plain": [
       "<Figure size 432x288 with 1 Axes>"
      ]
     },
     "metadata": {
      "needs_background": "light"
     },
     "output_type": "display_data"
    }
   ],
   "source": [
    "plt.plot(K,Kpe_1.detach(),label= r\"K'(K): high productivity\" )\n",
    "plt.plot(K,Kpe_2.detach(),label= r\"K'(K): low productivity\" )\n",
    "plt.plot(K,K,label= r\"45 Degree line\" )\n",
    "plt.ylabel(r\"Policy Function Of Capital\")\n",
    "plt.xlabel(r\"Capital:K\")\n",
    "plt.tight_layout()\n",
    "plt.legend(loc='best')\n",
    "plt.savefig(\"Capital.pdf\")\n",
    "plt.show()"
   ]
  },
  {
   "cell_type": "code",
   "execution_count": 13,
   "id": "89536647",
   "metadata": {},
   "outputs": [
    {
     "data": {
      "image/png": "[encoded data removed]",
      "text/plain": [
       "<Figure size 432x288 with 1 Axes>"
      ]
     },
     "metadata": {
      "needs_background": "light"
     },
     "output_type": "display_data"
    }
   ],
   "source": [
    "plt.plot(K,ce_1.detach(),label= r\"C(K): high productivity\" )\n",
    "plt.plot(K,ce_2.detach(),label= r\"C(K): low productivity\" )\n",
    "plt.ylabel(r\"Policy Function of Consumption\")\n",
    "plt.xlabel(r\"Capital:K\")\n",
    "plt.tight_layout()\n",
    "plt.legend(loc='best')\n",
    "plt.savefig(\"Consumpt.pdf\")\n",
    "plt.show()"
   ]
  }
 ],
 "metadata": {
  "kernelspec": {
   "display_name": "Python 3 (ipykernel)",
   "language": "python",
   "name": "python3"
  },
  "language_info": {
   "codemirror_mode": {
    "name": "ipython",
    "version": 3
   },
   "file_extension": ".py",
   "mimetype": "text/x-python",
   "name": "python",
   "nbconvert_exporter": "python",
   "pygments_lexer": "ipython3",
   "version": "3.9.7"
  }
 },
 "nbformat": 4,
 "nbformat_minor": 5
}
