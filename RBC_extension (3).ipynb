{
 "cells": [
  {
   "cell_type": "markdown",
   "id": "7908bff6",
   "metadata": {},
   "source": [
    "# Using Neural Nerwork To Solve Real Business Cycle Model"
   ]
  },
  {
   "cell_type": "code",
   "execution_count": 1,
   "id": "75e308fe",
   "metadata": {},
   "outputs": [],
   "source": [
    "import torch\n",
    "import torch.nn as nn\n",
    "import torch.nn.functional as F\n",
    "from torch.utils.data import Dataset, DataLoader\n",
    "import numpy as np\n",
    "import matplotlib.pyplot as plt\n",
    "from scipy.sparse import dia_matrix"
   ]
  },
  {
   "cell_type": "markdown",
   "id": "11ab9c39",
   "metadata": {},
   "source": [
    "## Define The Neural Network"
   ]
  },
  {
   "cell_type": "code",
   "execution_count": 2,
   "id": "06c8f391",
   "metadata": {},
   "outputs": [],
   "source": [
    "class NN(nn.Module):\n",
    "    def __init__(self, \n",
    "                 dim_hidden = 128,\n",
    "                layers = 6,\n",
    "                hidden_bias = True):\n",
    "        super().__init__()\n",
    "        self.dim_hidden= dim_hidden\n",
    "        self.layers = layers\n",
    "        self.hidden_bias = hidden_bias\n",
    "        \n",
    "        module = []\n",
    "        module.append(nn.Linear(2,self.dim_hidden, bias = self.hidden_bias))\n",
    "        module.append(nn.ReLU())\n",
    "        \n",
    "        for i in range(self.layers-1):\n",
    "            module.append(nn.Linear(self.dim_hidden,self.dim_hidden, bias = self.hidden_bias))\n",
    "            module.append(nn.ReLU())  \n",
    "            \n",
    "        module.append(nn.Linear(self.dim_hidden,1))              \n",
    "        \n",
    "        self.u = nn.Sequential(*module)\n",
    "\n",
    "    def forward(self, x):\n",
    "        u_out = self.u(x)\n",
    "        return  u_out"
   ]
  },
  {
   "cell_type": "markdown",
   "id": "43ef8996",
   "metadata": {},
   "source": [
    "## Define The Model Parameters"
   ]
  },
  {
   "cell_type": "code",
   "execution_count": 3,
   "id": "7526b844",
   "metadata": {},
   "outputs": [],
   "source": [
    "class Data:\n",
    "    def __init__(self,\n",
    "                 beta = 0.9,\n",
    "                 alpha = 0.5,\n",
    "                 sigma = 1, #risk aversion\n",
    "                 gamma= 0.15, #discount rate\n",
    "                 kmax = 12.0, \n",
    "                 kmin =  2.1,\n",
    "                 num = 200,\n",
    "                 Tmax = 1.2,\n",
    "                 Tmin = 0.8,\n",
    "                 N=5, #num of TFP states\n",
    "                 batch_size = 100\n",
    "                ):\n",
    "        self.beta = beta\n",
    "        self.alpha = alpha\n",
    "        self.sigma = sigma\n",
    "        self.gamma = gamma\n",
    "        self.kmax = kmax\n",
    "        self.kmin = kmin\n",
    "        self.num = num\n",
    "        self.Tmin = Tmin\n",
    "        self.Tmax = Tmax\n",
    "        self.N = N\n",
    "        self.batch_size = batch_size\n",
    "        self.train_data = torch.linspace(kmin,kmax,num).reshape(num,1)\n",
    "        \n",
    "        \n",
    "        data = np.vstack((0.2*np.ones(N),0.6*np.ones(N),0.2*np.ones(N)))\n",
    "        data[0][N-2] = 0.4\n",
    "        data[2][1] = 0.4\n",
    "        Q = dia_matrix((data,(-1,0,1)),shape=(N,N))\n",
    "        self.Q = torch.tensor(Q.todense())       \n",
    "        self.TFP=torch.linspace(Tmin,Tmax,N).reshape(N,1)"
   ]
  },
  {
   "cell_type": "code",
   "execution_count": 4,
   "id": "daab7ba0",
   "metadata": {},
   "outputs": [],
   "source": [
    "class Data_loader(Dataset):\n",
    "    \n",
    "    def __init__(self,data):\n",
    "        self.data = data\n",
    "        self.K = self.data\n",
    "        self.n_samples = self.data.shape[0]\n",
    "\n",
    "    def __getitem__(self,index):\n",
    "            return self.K[index]\n",
    "        \n",
    "    def __len__(self):\n",
    "        return self.n_samples"
   ]
  },
  {
   "cell_type": "code",
   "execution_count": 5,
   "id": "a986f431",
   "metadata": {},
   "outputs": [],
   "source": [
    "rbc = Data()\n",
    "data_set = rbc.train_data\n",
    "data_label = Data_loader(data = data_set)\n",
    "batch_size = rbc.batch_size\n",
    "train = DataLoader(dataset = data_label, batch_size = batch_size, shuffle = True)"
   ]
  },
  {
   "cell_type": "markdown",
   "id": "0815907a",
   "metadata": {},
   "source": [
    "## Define The Euler Equation and Policy Functions"
   ]
  },
  {
   "cell_type": "code",
   "execution_count": 6,
   "id": "d6cb251b",
   "metadata": {},
   "outputs": [],
   "source": [
    "def Euler_diff(K, rbc, c_hat):\n",
    "    \"\"\"\n",
    "    The difference between LHS and RHS of Euler Eq.\n",
    "    k is an array of size (batch_size * 1)\n",
    "    rbc is an instance of Data\n",
    "    c_hat is an instance of NN\n",
    "    \"\"\"\n",
    "\n",
    "    # Simplify names\n",
    "    β, α, σ, γ, TFP, Q, num, N = rbc.beta, rbc.alpha, rbc.sigma, rbc.gamma, rbc.TFP, rbc.Q, rbc.num, rbc.N\n",
    "    def u_prime(c):\n",
    "        return c.pow(-σ)\n",
    "    batch_size = rbc.batch_size\n",
    "    TFP = TFP.reshape(1,N).squeeze(0)\n",
    "    K = K.reshape(1,batch_size).squeeze(0)\n",
    "    residual = torch.empty([batch_size,N])\n",
    "    X = torch.cartesian_prod(K,TFP)\n",
    "    c_1 = c_hat(X).reshape(batch_size,N)\n",
    "    K_p = TFP.unsqueeze(0)*K.unsqueeze(1).pow(α) + (1-γ)*K.unsqueeze(1) - c_1\n",
    "    X1 = torch.cartesian_prod(K_p.reshape(1,-1).squeeze(0),TFP)\n",
    "    c_p = c_hat(X1).reshape(batch_size,N,N)\n",
    "    MPK = 1-γ+α*X1[:,1]*(X1[:,0].pow(α-1))\n",
    "    MPK = MPK.reshape(batch_size,N,N)\n",
    "    Ep = torch.sum((c_p.pow(-σ).mul(MPK)).mul(Q.repeat(batch_size,1,1)),dim=2)\n",
    "    residual = c_1.pow(σ)*β*Ep-1   \n",
    "    loss = residual.pow(2).mean()\n",
    "    return loss"
   ]
  },
  {
   "cell_type": "code",
   "execution_count": 7,
   "id": "74dc6bdb",
   "metadata": {},
   "outputs": [],
   "source": [
    "def Policy_function(rbc,c_hat):\n",
    "    c_hat.eval()\n",
    "    Tmin, Tmax, num, k, α, γ= rbc.Tmin, rbc.Tmax, rbc.num, rbc.train_data, rbc.alpha, rbc.gamma\n",
    "    k1 = k.reshape(1,num).squeeze(0)\n",
    "    \n",
    "    Tmed = (Tmin+Tmax)/2\n",
    "    state_l = torch.cartesian_prod(k1,torch.tensor([Tmin]))\n",
    "    c_l = c_hat(state_l).detach()\n",
    "    state_m = torch.cartesian_prod(k1,torch.tensor([Tmed]))\n",
    "    c_m = c_hat(state_m).detach()\n",
    "    state_h = torch.cartesian_prod(k1,torch.tensor([Tmax]))\n",
    "    c_h = c_hat(state_h).detach()\n",
    "\n",
    "    k_h =  Tmax*k1.pow(α) + (1-γ)*k1 - c_h.T.squeeze(0)\n",
    "    k_m =  Tmed*k1.pow(α) + (1-γ)*k1 - c_m.T.squeeze(0)\n",
    "    k_l =  Tmin*k1.pow(α) + (1-γ)*k1 - c_l.T.squeeze(0)\n",
    "\n",
    "    return c_l, c_m, c_h, k_l, k_m, k_h"
   ]
  },
  {
   "cell_type": "code",
   "execution_count": 8,
   "id": "4c334250",
   "metadata": {},
   "outputs": [
    {
     "data": {
      "text/plain": [
       "<torch._C.Generator at 0x1107d83b0>"
      ]
     },
     "execution_count": 8,
     "metadata": {},
     "output_type": "execute_result"
    }
   ],
   "source": [
    "max_epochs = 501\n",
    "torch.manual_seed(123)"
   ]
  },
  {
   "cell_type": "code",
   "execution_count": 9,
   "id": "514afc8d",
   "metadata": {},
   "outputs": [],
   "source": [
    "c_hat = NN()\n",
    "learning_rate = 3e-3\n",
    "\n",
    "optimizer = torch.optim.Adam(c_hat.parameters(), lr=learning_rate, weight_decay=0.0)\n",
    "scheduler = torch.optim.lr_scheduler.StepLR(optimizer, step_size=50, gamma=0.9)"
   ]
  },
  {
   "cell_type": "markdown",
   "id": "62a1ba70",
   "metadata": {},
   "source": [
    "## Define The Loss Function and Start Learning Process"
   ]
  },
  {
   "cell_type": "code",
   "execution_count": 10,
   "id": "798fc7cc",
   "metadata": {
    "scrolled": true
   },
   "outputs": [
    {
     "name": "stderr",
     "output_type": "stream",
     "text": [
      "/opt/anaconda3/envs/py35/lib/python3.9/site-packages/torch/functional.py:1069: UserWarning: torch.meshgrid: in an upcoming release, it will be required to pass the indexing argument. (Triggered internally at  ../aten/src/ATen/native/TensorShape.cpp:2157.)\n",
      "  return _VF.cartesian_prod(tensors)  # type: ignore[attr-defined]\n"
     ]
    },
    {
     "name": "stdout",
     "output_type": "stream",
     "text": [
      "epoch: 0 , MSE Euler Residuals: 3.23e-01\n",
      "epoch: 50 , MSE Euler Residuals: 3.82e-04\n",
      "epoch: 100 , MSE Euler Residuals: 1.91e-04\n",
      "epoch: 150 , MSE Euler Residuals: 3.56e-05\n",
      "epoch: 200 , MSE Euler Residuals: 3.35e-05\n",
      "epoch: 250 , MSE Euler Residuals: 2.91e-05\n",
      "epoch: 300 , MSE Euler Residuals: 2.66e-05\n",
      "epoch: 350 , MSE Euler Residuals: 2.60e-05\n",
      "epoch: 400 , MSE Euler Residuals: 2.49e-05\n",
      "epoch: 450 , MSE Euler Residuals: 2.35e-05\n",
      "epoch: 500 , MSE Euler Residuals: 2.21e-05\n"
     ]
    }
   ],
   "source": [
    "for epoch in range(max_epochs):\n",
    "    for index, K in enumerate(train):\n",
    "        loss = Euler_diff(K,rbc,c_hat) \n",
    "        optimizer.zero_grad()\n",
    "        loss.backward() \n",
    "        optimizer.step()\n",
    "        scheduler.step()\n",
    "    if epoch % 50 == 0:\n",
    "        #print(\"epoch:\",\",\",epoch,',',\"{:.2e}\".format(loss.item()),',',\"{:.2e}\".format(get_lr(optimizer))) \n",
    "        print(\"epoch:\",epoch, \",\",\"MSE Euler Residuals:\",\"{:.2e}\".format(loss.item()))    "
   ]
  },
  {
   "cell_type": "markdown",
   "id": "4e871ee2",
   "metadata": {},
   "source": [
    "## Plot The Results"
   ]
  },
  {
   "cell_type": "code",
   "execution_count": 11,
   "id": "9c6593ff",
   "metadata": {},
   "outputs": [],
   "source": [
    "k = rbc.train_data\n",
    "c_l, c_m, c_h, k_l, k_m, k_h = Policy_function(rbc,c_hat)"
   ]
  },
  {
   "cell_type": "code",
   "execution_count": 12,
   "id": "2705f416",
   "metadata": {},
   "outputs": [
    {
     "data": {
      "image/png": "[encoded data removed]",
      "text/plain": [
       "<Figure size 432x288 with 1 Axes>"
      ]
     },
     "metadata": {
      "needs_background": "light"
     },
     "output_type": "display_data"
    }
   ],
   "source": [
    "plt.plot(k,c_l,label= r\"C(K): low productivity\" )\n",
    "plt.plot(k,c_m,label= r\"C(K): median productivity\" )\n",
    "plt.plot(k,c_h,label= r\"C(K): large productivity\" )\n",
    "plt.ylabel(r\"Policy Function of Consumption\")\n",
    "plt.xlabel(r\"Capital:K\")\n",
    "plt.tight_layout()\n",
    "plt.legend(loc='best')\n",
    "plt.savefig(\"Consumption.pdf\")\n",
    "plt.show()"
   ]
  },
  {
   "cell_type": "code",
   "execution_count": 13,
   "id": "9a96ba31",
   "metadata": {},
   "outputs": [
    {
     "data": {
      "image/png": "[encoded data removed]",
      "text/plain": [
       "<Figure size 432x288 with 1 Axes>"
      ]
     },
     "metadata": {
      "needs_background": "light"
     },
     "output_type": "display_data"
    }
   ],
   "source": [
    "plt.plot(k,k_l,label= r\"K'(K): low productivity\" )\n",
    "plt.plot(k,k_m,label= r\"K'(K): median productivity\" )\n",
    "plt.plot(k,k_h,label= r\"K'(K): large productivity\" )\n",
    "plt.plot(k,k,label= r\"45 Degree line\" )\n",
    "plt.ylabel(r\"Policy Function of Capital\")\n",
    "plt.xlabel(r\"Capital:K\")\n",
    "plt.tight_layout()\n",
    "plt.legend(loc='best')\n",
    "plt.savefig(\"Capital.pdf\")\n",
    "plt.show()"
   ]
  }
 ],
 "metadata": {
  "kernelspec": {
   "display_name": "Python 3 (ipykernel)",
   "language": "python",
   "name": "python3"
  },
  "language_info": {
   "codemirror_mode": {
    "name": "ipython",
    "version": 3
   },
   "file_extension": ".py",
   "mimetype": "text/x-python",
   "name": "python",
   "nbconvert_exporter": "python",
   "pygments_lexer": "ipython3",
   "version": "3.9.7"
  }
 },
 "nbformat": 4,
 "nbformat_minor": 5
}
