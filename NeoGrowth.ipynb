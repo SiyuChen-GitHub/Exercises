{
 "cells": [
  {
   "cell_type": "markdown",
   "id": "1342b3d6",
   "metadata": {},
   "source": [
    "# Using Neural Nerwork To Solve The Newclassical Growth Model"
   ]
  },
  {
   "cell_type": "code",
   "execution_count": 1,
   "id": "aa63822e",
   "metadata": {},
   "outputs": [],
   "source": [
    "import torch\n",
    "import torch.nn as nn\n",
    "import torch.nn.functional as F\n",
    "import matplotlib.pyplot as plt\n",
    "import numpy as np\n",
    "from scipy import interpolate \n",
    "from matplotlib.ticker import PercentFormatter"
   ]
  },
  {
   "cell_type": "markdown",
   "id": "33c17319",
   "metadata": {},
   "source": [
    "## Define The Neural Network: layer, width, activation function"
   ]
  },
  {
   "cell_type": "code",
   "execution_count": 2,
   "id": "e2e65636",
   "metadata": {},
   "outputs": [],
   "source": [
    "class NN(nn.Module):\n",
    "    def __init__(self, \n",
    "                 dim_hidden = 32,\n",
    "                layers = 3,\n",
    "                hidden_bias = True):\n",
    "        super().__init__()\n",
    "        self.dim_hidden= dim_hidden\n",
    "        self.layers = layers\n",
    "        self.hidden_bias = hidden_bias\n",
    "        \n",
    "        torch.manual_seed(101)\n",
    "        module = []\n",
    "        module.append(nn.Linear(1,self.dim_hidden, bias = self.hidden_bias))\n",
    "        module.append(nn.Softplus())\n",
    "        \n",
    "        for i in range(self.layers-1):\n",
    "            module.append(nn.Linear(self.dim_hidden,self.dim_hidden, bias = self.hidden_bias))\n",
    "            module.append(nn.Softplus())\n",
    "                    \n",
    "        module.append(nn.Linear(self.dim_hidden,1))\n",
    "        module.append(nn.Sigmoid())\n",
    "        \n",
    "        self.u = nn.Sequential(*module)\n",
    "\n",
    "\n",
    "    def forward(self, x):\n",
    "        u_out = self.u(x)\n",
    "        return  u_out"
   ]
  },
  {
   "cell_type": "markdown",
   "id": "e42ff390",
   "metadata": {},
   "source": [
    "## Define The Parameters: discount rate, depreciation rate, risk aversion, capital range"
   ]
  },
  {
   "cell_type": "code",
   "execution_count": 3,
   "id": "42a319c3",
   "metadata": {},
   "outputs": [],
   "source": [
    "class Data:\n",
    "    def __init__(self,\n",
    "                 beta = 0.9,\n",
    "                 alpha = 0.5,\n",
    "                 sigma= 1, #risk aversion\n",
    "                 gamma= 0.15, #discount rate\n",
    "                 kmax = 20.0, \n",
    "                 kmin =  0.1,\n",
    "                 num = 500,\n",
    "                 batch_size = 100\n",
    "                ):\n",
    "        self.beta = beta\n",
    "        self.alpha = alpha\n",
    "        self.sigma = sigma\n",
    "        self.gamma = gamma\n",
    "        self.kmax = kmax\n",
    "        self.kmin = kmin\n",
    "        self.num = num\n",
    "        self.batch_size = batch_size                  \n",
    "        self.train_data = torch.linspace(kmin,kmax,num).reshape(num,1)"
   ]
  },
  {
   "cell_type": "code",
   "execution_count": 4,
   "id": "9a01d0cb",
   "metadata": {},
   "outputs": [],
   "source": [
    "from torch.utils.data import Dataset, DataLoader"
   ]
  },
  {
   "cell_type": "code",
   "execution_count": 5,
   "id": "d35872d4",
   "metadata": {},
   "outputs": [],
   "source": [
    "class Data_loader(Dataset):\n",
    "    \n",
    "    def __init__(self,data):\n",
    "        self.data = data\n",
    "        self.K = self.data[:,[0]]\n",
    "        self.n_samples = self.data.shape[0]\n",
    "\n",
    "    def __getitem__(self,index):\n",
    "            return self.K[index]\n",
    "        \n",
    "    def __len__(self):\n",
    "        return self.n_samples"
   ]
  },
  {
   "cell_type": "code",
   "execution_count": 6,
   "id": "7fc8a40e",
   "metadata": {},
   "outputs": [
    {
     "name": "stdout",
     "output_type": "stream",
     "text": [
      "500\n"
     ]
    }
   ],
   "source": [
    "data_set = Data().train_data\n",
    "data_label = Data_loader(data = data_set)\n",
    "print(data_set.shape[0])\n",
    "batch_size = Data().batch_size\n",
    "train = DataLoader(dataset = data_label, batch_size = batch_size, shuffle = True)"
   ]
  },
  {
   "cell_type": "code",
   "execution_count": 7,
   "id": "329d55f9",
   "metadata": {},
   "outputs": [
    {
     "name": "stdout",
     "output_type": "stream",
     "text": [
      "0.5\n"
     ]
    }
   ],
   "source": [
    "α = Data().alpha\n",
    "γ = Data().gamma\n",
    "β = Data().beta\n",
    "σ = Data().sigma\n",
    "print(α)"
   ]
  },
  {
   "cell_type": "code",
   "execution_count": 8,
   "id": "dc3702ce",
   "metadata": {},
   "outputs": [],
   "source": [
    "max_epochs = 5001"
   ]
  },
  {
   "cell_type": "code",
   "execution_count": 9,
   "id": "b803998c",
   "metadata": {},
   "outputs": [],
   "source": [
    "c_hat = NN()\n",
    "learning_rate = 2e-3\n",
    "\n",
    "optimizer = torch.optim.Adam(c_hat.parameters(), lr=learning_rate, weight_decay=0.0)\n",
    "scheduler = torch.optim.lr_scheduler.StepLR(optimizer, step_size=500, gamma=0.9)"
   ]
  },
  {
   "cell_type": "markdown",
   "id": "3610940f",
   "metadata": {},
   "source": [
    "## Define The Loss Function and Start Learning Process"
   ]
  },
  {
   "cell_type": "code",
   "execution_count": 10,
   "id": "280c0e4c",
   "metadata": {},
   "outputs": [
    {
     "name": "stdout",
     "output_type": "stream",
     "text": [
      "epoch: 0 , MSE Euler Residuals: 1.45e-03\n",
      "epoch: 100 , MSE Euler Residuals: 3.90e-05\n",
      "epoch: 200 , MSE Euler Residuals: 2.06e-04\n",
      "epoch: 300 , MSE Euler Residuals: 1.41e-05\n",
      "epoch: 400 , MSE Euler Residuals: 1.21e-05\n",
      "epoch: 500 , MSE Euler Residuals: 4.02e-06\n",
      "epoch: 600 , MSE Euler Residuals: 1.38e-06\n",
      "epoch: 700 , MSE Euler Residuals: 1.02e-05\n",
      "epoch: 800 , MSE Euler Residuals: 2.62e-05\n",
      "epoch: 900 , MSE Euler Residuals: 7.86e-06\n",
      "epoch: 1000 , MSE Euler Residuals: 2.43e-06\n",
      "epoch: 1100 , MSE Euler Residuals: 1.55e-06\n",
      "epoch: 1200 , MSE Euler Residuals: 1.44e-06\n",
      "epoch: 1300 , MSE Euler Residuals: 7.27e-07\n",
      "epoch: 1400 , MSE Euler Residuals: 4.60e-06\n",
      "epoch: 1500 , MSE Euler Residuals: 2.51e-06\n",
      "epoch: 1600 , MSE Euler Residuals: 5.65e-06\n",
      "epoch: 1700 , MSE Euler Residuals: 1.87e-05\n",
      "epoch: 1800 , MSE Euler Residuals: 1.97e-06\n",
      "epoch: 1900 , MSE Euler Residuals: 9.98e-07\n",
      "epoch: 2000 , MSE Euler Residuals: 1.09e-06\n",
      "epoch: 2100 , MSE Euler Residuals: 4.99e-06\n",
      "epoch: 2200 , MSE Euler Residuals: 1.34e-05\n",
      "epoch: 2300 , MSE Euler Residuals: 1.69e-06\n",
      "epoch: 2400 , MSE Euler Residuals: 2.03e-06\n",
      "epoch: 2500 , MSE Euler Residuals: 4.44e-07\n",
      "epoch: 2600 , MSE Euler Residuals: 3.37e-06\n",
      "epoch: 2700 , MSE Euler Residuals: 6.78e-07\n",
      "epoch: 2800 , MSE Euler Residuals: 8.02e-07\n",
      "epoch: 2900 , MSE Euler Residuals: 6.43e-07\n",
      "epoch: 3000 , MSE Euler Residuals: 4.13e-07\n",
      "epoch: 3100 , MSE Euler Residuals: 1.68e-06\n",
      "epoch: 3200 , MSE Euler Residuals: 1.32e-07\n",
      "epoch: 3300 , MSE Euler Residuals: 6.29e-06\n",
      "epoch: 3400 , MSE Euler Residuals: 8.05e-08\n",
      "epoch: 3500 , MSE Euler Residuals: 6.48e-07\n",
      "epoch: 3600 , MSE Euler Residuals: 8.56e-08\n",
      "epoch: 3700 , MSE Euler Residuals: 6.80e-07\n",
      "epoch: 3800 , MSE Euler Residuals: 1.14e-07\n",
      "epoch: 3900 , MSE Euler Residuals: 2.32e-06\n",
      "epoch: 4000 , MSE Euler Residuals: 4.94e-06\n",
      "epoch: 4100 , MSE Euler Residuals: 2.09e-07\n",
      "epoch: 4200 , MSE Euler Residuals: 3.70e-08\n",
      "epoch: 4300 , MSE Euler Residuals: 5.75e-08\n",
      "epoch: 4400 , MSE Euler Residuals: 1.24e-07\n",
      "epoch: 4500 , MSE Euler Residuals: 9.61e-07\n",
      "epoch: 4600 , MSE Euler Residuals: 6.34e-07\n",
      "epoch: 4700 , MSE Euler Residuals: 1.76e-07\n",
      "epoch: 4800 , MSE Euler Residuals: 8.94e-06\n",
      "epoch: 4900 , MSE Euler Residuals: 2.00e-08\n",
      "epoch: 5000 , MSE Euler Residuals: 5.23e-07\n"
     ]
    }
   ],
   "source": [
    "for epoch in range(max_epochs):\n",
    "    for index, K in enumerate(train):\n",
    "        \n",
    "        K_prime = (K.pow(α)+(1-γ)*K)*(1-c_hat(K))\n",
    "        C_next = (K_prime.pow(α)+(1-γ)*K_prime)*c_hat(K_prime)\n",
    "        C_current = (K.pow(α)+(1-γ)*K)*c_hat(K)\n",
    "        euler_res = β*(C_next.pow(-σ))*(1-γ+α*K_prime.pow(α-1))-C_current.pow(-σ)\n",
    "        \n",
    "        loss = euler_res.pow(2).mean()\n",
    "       \n",
    "        optimizer.zero_grad()\n",
    "        \n",
    "        loss.backward()\n",
    "        \n",
    "        optimizer.step()\n",
    "        \n",
    "    scheduler.step()\n",
    "    \n",
    "    if epoch % 100 == 0:\n",
    "        #print(\"epoch:\",\",\",epoch,',',\"{:.2e}\".format(loss.item()),',',\"{:.2e}\".format(get_lr(optimizer))) \n",
    "        print(\"epoch:\",epoch, \",\",\"MSE Euler Residuals:\",\"{:.2e}\".format(loss.item()))    \n"
   ]
  },
  {
   "cell_type": "code",
   "execution_count": 11,
   "id": "cdd969d3",
   "metadata": {},
   "outputs": [],
   "source": [
    "c_hat.eval()\n",
    "K = Data().train_data[:,[0]]\n",
    "approx_sol = (K.pow(α)+(1-γ)*K)*c_hat(K).detach()\n",
    "K_prime=K.pow(α)+(1-γ)*K-approx_sol"
   ]
  },
  {
   "cell_type": "markdown",
   "id": "c0372cb6",
   "metadata": {},
   "source": [
    "# Using Policy Function Iteration For Comparasion"
   ]
  },
  {
   "cell_type": "code",
   "execution_count": 12,
   "id": "2b9ac950",
   "metadata": {},
   "outputs": [],
   "source": [
    "beta = 0.9\n",
    "alpha = 0.5\n",
    "sigma= 1\n",
    "gamma= 0.15\n",
    "kmax = 20.0\n",
    "kmin =  0.1\n",
    "num = 500\n",
    "K_n=np.linspace(kmin,kmax,num)"
   ]
  },
  {
   "cell_type": "code",
   "execution_count": 13,
   "id": "e425822b",
   "metadata": {},
   "outputs": [],
   "source": [
    "C_n=0.1*K_n  #initial value of C(K)\n",
    "\n",
    "d=1\n",
    "tol=1e-13\n",
    "N=0\n",
    "\n",
    "while  d>tol:\n",
    "    Kp=K_n**alpha+(1-gamma)*K_n-C_n\n",
    "    Iterp1=interpolate.interp1d(K_n,C_n)\n",
    "    Cp=Iterp1(Kp)\n",
    "    Cnew=Cp*(beta*(alpha*Kp**(alpha-1)+1-gamma))**(-1/sigma)\n",
    "    d=max(abs(Cnew-C_n))\n",
    "    C_n=Cnew\n",
    "    N=N+1"
   ]
  },
  {
   "cell_type": "code",
   "execution_count": 14,
   "id": "d05778ec",
   "metadata": {},
   "outputs": [
    {
     "data": {
      "image/png": "[encoded data removed]",
      "text/plain": [
       "<Figure size 432x288 with 1 Axes>"
      ]
     },
     "metadata": {
      "needs_background": "light"
     },
     "output_type": "display_data"
    }
   ],
   "source": [
    "plt.plot(K,approx_sol,label= r\"Approximate Solution:C\" )\n",
    "plt.plot(K_n,C_n,label= r\"Approximate Solution:C_new\" )\n",
    "plt.ylabel(r\"Policy Function: C(K)\")\n",
    "plt.xlabel(r\"Capital:K\")\n",
    "plt.tight_layout()\n",
    "plt.legend(loc='best')\n",
    "plt.savefig(\"Consumpt_0.pdf\")\n",
    "plt.title(\"Policy Function Iteration: C(K)\")\n",
    "plt.show()"
   ]
  },
  {
   "cell_type": "code",
   "execution_count": 15,
   "id": "fbf4f3b7",
   "metadata": {
    "scrolled": true
   },
   "outputs": [
    {
     "data": {
      "image/png": "[encoded data removed]",
      "text/plain": [
       "<Figure size 432x288 with 1 Axes>"
      ]
     },
     "metadata": {
      "needs_background": "light"
     },
     "output_type": "display_data"
    }
   ],
   "source": [
    "plt.plot(K,K_prime,label= r\"Approximate Solution:K'\" )\n",
    "plt.plot(K_n,Kp,label= r\"Approximate Solution:K_new\" )\n",
    "plt.plot(K,K, \"--\", color='r', label= r\"45 Degree Line\")\n",
    "plt.ylabel(r\"Policy Function: K'(K)\")\n",
    "plt.xlabel(r\"Capital:K\")\n",
    "plt.tight_layout()\n",
    "plt.legend(loc='best')\n",
    "plt.savefig(\"K_prime_0.pdf\")\n",
    "plt.title(\"Policy Function Iteration: K'(K)\")\n",
    "plt.show()"
   ]
  },
  {
   "cell_type": "markdown",
   "id": "b9ac3230",
   "metadata": {},
   "source": [
    "# Differences Between Two Approaches"
   ]
  },
  {
   "cell_type": "code",
   "execution_count": 16,
   "id": "6a3f61d3",
   "metadata": {
    "scrolled": false
   },
   "outputs": [
    {
     "data": {
      "image/png": "[encoded data removed]",
      "text/plain": [
       "<Figure size 432x288 with 1 Axes>"
      ]
     },
     "metadata": {
      "needs_background": "light"
     },
     "output_type": "display_data"
    }
   ],
   "source": [
    "C_0=approx_sol.numpy()\n",
    "C_1=C_n.reshape(num,1)\n",
    "Distance=abs(C_1-C_0)/C_1\n",
    "plt.plot(K_n,Distance,label= r\"Difference Between Two Approaches\" )\n",
    "plt.ylabel(r\"Percentage Difference\")\n",
    "plt.xlabel(r\"Capital:K\")\n",
    "plt.tight_layout()\n",
    "plt.legend(loc='best')\n",
    "plt.gca().yaxis.set_major_formatter(PercentFormatter(xmax=1, decimals=3))\n",
    "plt.show()"
   ]
  }
 ],
 "metadata": {
  "kernelspec": {
   "display_name": "Python 3 (ipykernel)",
   "language": "python",
   "name": "python3"
  },
  "language_info": {
   "codemirror_mode": {
    "name": "ipython",
    "version": 3
   },
   "file_extension": ".py",
   "mimetype": "text/x-python",
   "name": "python",
   "nbconvert_exporter": "python",
   "pygments_lexer": "ipython3",
   "version": "3.9.7"
  }
 },
 "nbformat": 4,
 "nbformat_minor": 5
}
